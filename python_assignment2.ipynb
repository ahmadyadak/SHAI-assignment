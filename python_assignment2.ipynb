{
  "cells": [
    {
      "cell_type": "markdown",
      "metadata": {
        "id": "view-in-github",
        "colab_type": "text"
      },
      "source": [
        "<a href=\"https://colab.research.google.com/github/ahmadyadak/SHAI-assignment/blob/main/python_assignment2.ipynb\" target=\"_parent\"><img src=\"https://colab.research.google.com/assets/colab-badge.svg\" alt=\"Open In Colab\"/></a>"
      ]
    },
    {
      "cell_type": "markdown",
      "source": [
        "Assignment :\n",
        "\n",
        "\n",
        " Task 1: Create a Function to Return Divisible Numbers for a Given Number\n",
        "\n",
        "Task Description:\n",
        "\n",
        "Write a function that takes an integer as input and returns a list of all numbers that divide the input number without leaving a remainder (i.e., divisors). The function should return all positive divisors of the given number."
      ],
      "metadata": {
        "id": "ildzuU76udfi"
      }
    },
    {
      "cell_type": "code",
      "source": [
        "num = input(\"Enter number: \")\n",
        "def my_function():\n",
        " \"\"\"\n",
        "\n",
        " \"\"\"\n",
        " for i in range(1,int(num)+1):\n",
        "  if int(num) % i == 0:\n",
        "   print(i)\n",
        "\n",
        "my_function()\n"
      ],
      "metadata": {
        "id": "-CcyoJ9auni3",
        "outputId": "81d97755-07cf-40aa-cf3a-86d9dea45295",
        "colab": {
          "base_uri": "https://localhost:8080/"
        }
      },
      "execution_count": 23,
      "outputs": [
        {
          "output_type": "stream",
          "name": "stdout",
          "text": [
            "Enter number: 28\n",
            "1\n",
            "2\n",
            "4\n",
            "7\n",
            "14\n",
            "28\n"
          ]
        }
      ]
    },
    {
      "cell_type": "markdown",
      "source": [
        "Task 2: Create a Function to Remove an Element from a Tuple at a Specific Index\n",
        "\n",
        "Task Description:\n",
        "\n",
        "Write a function that takes a tuple and an index as inputs. The function should return a new tuple with the element at the specified index removed. The function should not modify the original tuple (since tuples are immutable in Python), but rather return a new tuple without the specified element.\n"
      ],
      "metadata": {
        "id": "pd_c7idbycDV"
      }
    },
    {
      "cell_type": "code",
      "source": [
        "def remove_element():\n",
        "  my_tuple = input()\n",
        "  index = int(input())\n",
        "  my_list = list(my_tuple)\n",
        "  my_list.pop(index)\n",
        "  my_tuple = tuple(my_list)\n",
        "  print(my_tuple)\n",
        "remove_element()"
      ],
      "metadata": {
        "id": "MBURPNLKytRQ",
        "outputId": "7e6e247e-768e-408b-e2c4-609de63d15e5",
        "colab": {
          "base_uri": "https://localhost:8080/"
        }
      },
      "execution_count": 30,
      "outputs": [
        {
          "output_type": "stream",
          "name": "stdout",
          "text": [
            "123456\n",
            "2\n",
            "('1', '2', '4', '5', '6')\n"
          ]
        }
      ]
    }
  ],
  "metadata": {
    "colab": {
      "name": "Welcome To Colab",
      "toc_visible": true,
      "provenance": [],
      "include_colab_link": true
    },
    "kernelspec": {
      "display_name": "Python 3",
      "name": "python3"
    }
  },
  "nbformat": 4,
  "nbformat_minor": 0
}